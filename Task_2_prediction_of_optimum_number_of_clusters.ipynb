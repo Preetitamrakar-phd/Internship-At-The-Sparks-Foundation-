{
  "nbformat": 4,
  "nbformat_minor": 0,
  "metadata": {
    "colab": {
      "name": "Task #2_prediction_of_optimum_number_of_clusters.ipynb",
      "provenance": [],
      "authorship_tag": "ABX9TyMZKrVWZIdnrsIZYchyH6Zv",
      "include_colab_link": true
    },
    "kernelspec": {
      "name": "python3",
      "display_name": "Python 3"
    }
  },
  "cells": [
    {
      "cell_type": "markdown",
      "metadata": {
        "id": "view-in-github",
        "colab_type": "text"
      },
      "source": [
        "<a href=\"https://colab.research.google.com/github/Preetitamrakar-phd/Internship-At-The-Sparks-Foundation-/blob/main/Task_2_prediction_of_optimum_number_of_clusters.ipynb\" target=\"_parent\"><img src=\"https://colab.research.google.com/assets/colab-badge.svg\" alt=\"Open In Colab\"/></a>"
      ]
    },
    {
      "cell_type": "markdown",
      "metadata": {
        "id": "mAwfgQkPXD99"
      },
      "source": [
        "**DATA SCIENCE AND BUSINESS ANALYTICS INTERN at SPARKS FOUNDATION #GRIPJAN21**\r\n",
        "\r\n",
        "\r\n",
        "**Preeti Tamrakar**"
      ]
    },
    {
      "cell_type": "markdown",
      "metadata": {
        "id": "Ag3itwhVXXkT"
      },
      "source": [
        "**TASK #2: Prediction using Unsupervised ML**\r\n",
        "\r\n",
        "To do: From the given ‘Iris’ dataset, predict the optimum number of clusters\r\n",
        "and represent it visually."
      ]
    },
    {
      "cell_type": "markdown",
      "metadata": {
        "id": "x_y03ikOYfwE"
      },
      "source": [
        "Given task is to predict the optimal number of cluster, so we can use k-means clustering algorithm for this task."
      ]
    },
    {
      "cell_type": "code",
      "metadata": {
        "id": "T0t5ianEYz4n"
      },
      "source": [
        "# Importing all the required libraries\r\n",
        "import numpy as np\r\n",
        "import pandas as pd\r\n",
        "import matplotlib.pyplot as plt\r\n",
        "from sklearn.datasets import load_iris"
      ],
      "execution_count": 2,
      "outputs": []
    },
    {
      "cell_type": "code",
      "metadata": {
        "colab": {
          "base_uri": "https://localhost:8080/",
          "height": 202
        },
        "id": "C8SvTbL2ZUY8",
        "outputId": "dfabfd5c-4ab5-4b45-d5b5-d874f5361352"
      },
      "source": [
        "iris = load_iris()\r\n",
        "iris_df = pd.DataFrame(iris.data, columns = iris.feature_names)\r\n",
        "iris_df.head()"
      ],
      "execution_count": 3,
      "outputs": [
        {
          "output_type": "execute_result",
          "data": {
            "text/html": [
              "<div>\n",
              "<style scoped>\n",
              "    .dataframe tbody tr th:only-of-type {\n",
              "        vertical-align: middle;\n",
              "    }\n",
              "\n",
              "    .dataframe tbody tr th {\n",
              "        vertical-align: top;\n",
              "    }\n",
              "\n",
              "    .dataframe thead th {\n",
              "        text-align: right;\n",
              "    }\n",
              "</style>\n",
              "<table border=\"1\" class=\"dataframe\">\n",
              "  <thead>\n",
              "    <tr style=\"text-align: right;\">\n",
              "      <th></th>\n",
              "      <th>sepal length (cm)</th>\n",
              "      <th>sepal width (cm)</th>\n",
              "      <th>petal length (cm)</th>\n",
              "      <th>petal width (cm)</th>\n",
              "    </tr>\n",
              "  </thead>\n",
              "  <tbody>\n",
              "    <tr>\n",
              "      <th>0</th>\n",
              "      <td>5.1</td>\n",
              "      <td>3.5</td>\n",
              "      <td>1.4</td>\n",
              "      <td>0.2</td>\n",
              "    </tr>\n",
              "    <tr>\n",
              "      <th>1</th>\n",
              "      <td>4.9</td>\n",
              "      <td>3.0</td>\n",
              "      <td>1.4</td>\n",
              "      <td>0.2</td>\n",
              "    </tr>\n",
              "    <tr>\n",
              "      <th>2</th>\n",
              "      <td>4.7</td>\n",
              "      <td>3.2</td>\n",
              "      <td>1.3</td>\n",
              "      <td>0.2</td>\n",
              "    </tr>\n",
              "    <tr>\n",
              "      <th>3</th>\n",
              "      <td>4.6</td>\n",
              "      <td>3.1</td>\n",
              "      <td>1.5</td>\n",
              "      <td>0.2</td>\n",
              "    </tr>\n",
              "    <tr>\n",
              "      <th>4</th>\n",
              "      <td>5.0</td>\n",
              "      <td>3.6</td>\n",
              "      <td>1.4</td>\n",
              "      <td>0.2</td>\n",
              "    </tr>\n",
              "  </tbody>\n",
              "</table>\n",
              "</div>"
            ],
            "text/plain": [
              "   sepal length (cm)  sepal width (cm)  petal length (cm)  petal width (cm)\n",
              "0                5.1               3.5                1.4               0.2\n",
              "1                4.9               3.0                1.4               0.2\n",
              "2                4.7               3.2                1.3               0.2\n",
              "3                4.6               3.1                1.5               0.2\n",
              "4                5.0               3.6                1.4               0.2"
            ]
          },
          "metadata": {
            "tags": []
          },
          "execution_count": 3
        }
      ]
    },
    {
      "cell_type": "code",
      "metadata": {
        "colab": {
          "base_uri": "https://localhost:8080/"
        },
        "id": "tiG3MGs1acqI",
        "outputId": "c1e438a0-cbfc-4c4e-a64c-a28f045417fc"
      },
      "source": [
        "iris_df.shape # shows total number of rows and columns"
      ],
      "execution_count": 4,
      "outputs": [
        {
          "output_type": "execute_result",
          "data": {
            "text/plain": [
              "(150, 4)"
            ]
          },
          "metadata": {
            "tags": []
          },
          "execution_count": 4
        }
      ]
    },
    {
      "cell_type": "code",
      "metadata": {
        "colab": {
          "base_uri": "https://localhost:8080/"
        },
        "id": "bqkcXDIZaqRJ",
        "outputId": "ad5c1826-2edf-4835-abf3-a9aae4a32cbe"
      },
      "source": [
        "iris_df.isnull().sum()  # check for null values"
      ],
      "execution_count": 5,
      "outputs": [
        {
          "output_type": "execute_result",
          "data": {
            "text/plain": [
              "sepal length (cm)    0\n",
              "sepal width (cm)     0\n",
              "petal length (cm)    0\n",
              "petal width (cm)     0\n",
              "dtype: int64"
            ]
          },
          "metadata": {
            "tags": []
          },
          "execution_count": 5
        }
      ]
    },
    {
      "cell_type": "code",
      "metadata": {
        "id": "d4tmc3fJa-nW"
      },
      "source": [
        "# dividing it into attribute and target\r\n",
        "X = iris.data\r\n",
        "y = iris.target"
      ],
      "execution_count": 6,
      "outputs": []
    },
    {
      "cell_type": "markdown",
      "metadata": {
        "id": "Gzxk4H2JbW4I"
      },
      "source": [
        "Data Visualization"
      ]
    },
    {
      "cell_type": "code",
      "metadata": {
        "colab": {
          "base_uri": "https://localhost:8080/",
          "height": 282
        },
        "id": "-uh9bq1abZjC",
        "outputId": "081f79a2-06ee-4496-ac6d-8c1ce147ebf3"
      },
      "source": [
        "# between sepal length and width\r\n",
        "\r\n",
        "plt.scatter(X[y == 0, 0], X[y == 0, 1], label = 'setosa')\r\n",
        "plt.scatter(X[y == 1, 0], X[y == 1, 1], label = 'versicolor')\r\n",
        "plt.scatter(X[y == 2, 0], X[y == 2, 1], label = 'virginica')\r\n",
        "plt.legend(loc='lower right') \r\n",
        "plt.xlabel('Sepal Length')\r\n",
        "plt.ylabel('Sepal Width')\r\n",
        "plt.show()"
      ],
      "execution_count": 7,
      "outputs": [
        {
          "output_type": "display_data",
          "data": {
            "image/png": "[encoded data removed]",
            "text/plain": [
              "<Figure size 432x288 with 1 Axes>"
            ]
          },
          "metadata": {
            "tags": [],
            "needs_background": "light"
          }
        }
      ]
    },
    {
      "cell_type": "code",
      "metadata": {
        "colab": {
          "base_uri": "https://localhost:8080/",
          "height": 279
        },
        "id": "AwbBmJrcb2lx",
        "outputId": "e95ba3d9-c9c4-4c89-eaf9-ed163f383ce3"
      },
      "source": [
        "# between petal length and width\r\n",
        "\r\n",
        "plt.scatter(X[y == 0, 2], X[y == 0, 3], label = 'setosa')\r\n",
        "plt.scatter(X[y == 1, 2], X[y == 1, 3], label = 'versicolor')\r\n",
        "plt.scatter(X[y == 2, 2], X[y == 2, 3], label = 'virginica')\r\n",
        "plt.legend(loc='lower right') \r\n",
        "plt.xlabel('Petal Length')\r\n",
        "plt.ylabel('Petal Width')\r\n",
        "plt.show()"
      ],
      "execution_count": 8,
      "outputs": [
        {
          "output_type": "display_data",
          "data": {
            "image/png": "[encoded data removed]",
            "text/plain": [
              "<Figure size 432x288 with 1 Axes>"
            ]
          },
          "metadata": {
            "tags": [],
            "needs_background": "light"
          }
        }
      ]
    },
    {
      "cell_type": "markdown",
      "metadata": {
        "id": "eqXPGDw7cAu8"
      },
      "source": [
        "We can conclude from the plot, that petal length and petal width are the better predictors."
      ]
    },
    {
      "cell_type": "markdown",
      "metadata": {
        "id": "KZuYzanycKVS"
      },
      "source": [
        "**Applying the K-Means Algorithm to find the optimum number of clusters**"
      ]
    },
    {
      "cell_type": "code",
      "metadata": {
        "colab": {
          "base_uri": "https://localhost:8080/",
          "height": 295
        },
        "id": "hww7WdfGcFns",
        "outputId": "8143be1f-f226-4565-8a92-7e7a9652b999"
      },
      "source": [
        "from sklearn.cluster import KMeans\r\n",
        "\r\n",
        "# Experimenting with some values of 'K' to find out the optimal value\r\n",
        "\r\n",
        "wcss = [] #  within cluster sum of squares which helps to find the optimum no of clusters\r\n",
        "\r\n",
        "for i in range(1, 11):\r\n",
        "    km = KMeans(n_clusters = i)\r\n",
        "    km.fit(X)\r\n",
        "    wcss.append(km.inertia_) # calculates wcss\r\n",
        "\r\n",
        "# Now plotting a graph which shows us the 'elbow' i.e. a point after the graph changes from exponential to linear\r\n",
        "    \r\n",
        "plt.plot(range(1, 11), wcss)\r\n",
        "plt.title('The elbow method')\r\n",
        "plt.xlabel('Number of clusters')\r\n",
        "plt.ylabel('wcss') \r\n",
        "plt.show()\r\n"
      ],
      "execution_count": 12,
      "outputs": [
        {
          "output_type": "display_data",
          "data": {
            "image/png": "[encoded data removed]",
            "text/plain": [
              "<Figure size 432x288 with 1 Axes>"
            ]
          },
          "metadata": {
            "tags": [],
            "needs_background": "light"
          }
        }
      ]
    },
    {
      "cell_type": "code",
      "metadata": {
        "colab": {
          "base_uri": "https://localhost:8080/"
        },
        "id": "28Xodk2Zdx29",
        "outputId": "21c431f2-b830-4ec1-87ab-0b50cfef66e7"
      },
      "source": [
        "# Creating the kmeans classifier\r\n",
        "km = KMeans(n_clusters = 3)\r\n",
        "y_pred = km.fit_predict(X)\r\n",
        "y_pred"
      ],
      "execution_count": 13,
      "outputs": [
        {
          "output_type": "execute_result",
          "data": {
            "text/plain": [
              "array([0, 0, 0, 0, 0, 0, 0, 0, 0, 0, 0, 0, 0, 0, 0, 0, 0, 0, 0, 0, 0, 0,\n",
              "       0, 0, 0, 0, 0, 0, 0, 0, 0, 0, 0, 0, 0, 0, 0, 0, 0, 0, 0, 0, 0, 0,\n",
              "       0, 0, 0, 0, 0, 0, 1, 1, 2, 1, 1, 1, 1, 1, 1, 1, 1, 1, 1, 1, 1, 1,\n",
              "       1, 1, 1, 1, 1, 1, 1, 1, 1, 1, 1, 2, 1, 1, 1, 1, 1, 1, 1, 1, 1, 1,\n",
              "       1, 1, 1, 1, 1, 1, 1, 1, 1, 1, 1, 1, 2, 1, 2, 2, 2, 2, 1, 2, 2, 2,\n",
              "       2, 2, 2, 1, 1, 2, 2, 2, 2, 1, 2, 1, 2, 1, 2, 2, 1, 1, 2, 2, 2, 2,\n",
              "       2, 1, 2, 2, 2, 2, 1, 2, 2, 2, 1, 2, 2, 2, 1, 2, 2, 1], dtype=int32)"
            ]
          },
          "metadata": {
            "tags": []
          },
          "execution_count": 13
        }
      ]
    },
    {
      "cell_type": "code",
      "metadata": {
        "colab": {
          "base_uri": "https://localhost:8080/",
          "height": 202
        },
        "id": "pwFTINYrd4gw",
        "outputId": "2d03e1c7-1254-486f-e058-113465de2d38"
      },
      "source": [
        "iris_df['clusters']=y_pred\r\n",
        "iris_df.head()"
      ],
      "execution_count": 14,
      "outputs": [
        {
          "output_type": "execute_result",
          "data": {
            "text/html": [
              "<div>\n",
              "<style scoped>\n",
              "    .dataframe tbody tr th:only-of-type {\n",
              "        vertical-align: middle;\n",
              "    }\n",
              "\n",
              "    .dataframe tbody tr th {\n",
              "        vertical-align: top;\n",
              "    }\n",
              "\n",
              "    .dataframe thead th {\n",
              "        text-align: right;\n",
              "    }\n",
              "</style>\n",
              "<table border=\"1\" class=\"dataframe\">\n",
              "  <thead>\n",
              "    <tr style=\"text-align: right;\">\n",
              "      <th></th>\n",
              "      <th>sepal length (cm)</th>\n",
              "      <th>sepal width (cm)</th>\n",
              "      <th>petal length (cm)</th>\n",
              "      <th>petal width (cm)</th>\n",
              "      <th>clusters</th>\n",
              "    </tr>\n",
              "  </thead>\n",
              "  <tbody>\n",
              "    <tr>\n",
              "      <th>0</th>\n",
              "      <td>5.1</td>\n",
              "      <td>3.5</td>\n",
              "      <td>1.4</td>\n",
              "      <td>0.2</td>\n",
              "      <td>0</td>\n",
              "    </tr>\n",
              "    <tr>\n",
              "      <th>1</th>\n",
              "      <td>4.9</td>\n",
              "      <td>3.0</td>\n",
              "      <td>1.4</td>\n",
              "      <td>0.2</td>\n",
              "      <td>0</td>\n",
              "    </tr>\n",
              "    <tr>\n",
              "      <th>2</th>\n",
              "      <td>4.7</td>\n",
              "      <td>3.2</td>\n",
              "      <td>1.3</td>\n",
              "      <td>0.2</td>\n",
              "      <td>0</td>\n",
              "    </tr>\n",
              "    <tr>\n",
              "      <th>3</th>\n",
              "      <td>4.6</td>\n",
              "      <td>3.1</td>\n",
              "      <td>1.5</td>\n",
              "      <td>0.2</td>\n",
              "      <td>0</td>\n",
              "    </tr>\n",
              "    <tr>\n",
              "      <th>4</th>\n",
              "      <td>5.0</td>\n",
              "      <td>3.6</td>\n",
              "      <td>1.4</td>\n",
              "      <td>0.2</td>\n",
              "      <td>0</td>\n",
              "    </tr>\n",
              "  </tbody>\n",
              "</table>\n",
              "</div>"
            ],
            "text/plain": [
              "   sepal length (cm)  sepal width (cm)  ...  petal width (cm)  clusters\n",
              "0                5.1               3.5  ...               0.2         0\n",
              "1                4.9               3.0  ...               0.2         0\n",
              "2                4.7               3.2  ...               0.2         0\n",
              "3                4.6               3.1  ...               0.2         0\n",
              "4                5.0               3.6  ...               0.2         0\n",
              "\n",
              "[5 rows x 5 columns]"
            ]
          },
          "metadata": {
            "tags": []
          },
          "execution_count": 14
        }
      ]
    },
    {
      "cell_type": "markdown",
      "metadata": {
        "id": "ZTUQTAAUeD_M"
      },
      "source": [
        "Visualizing the clusters of sepal length and width\r\n"
      ]
    },
    {
      "cell_type": "code",
      "metadata": {
        "colab": {
          "base_uri": "https://localhost:8080/",
          "height": 282
        },
        "id": "VpenFKFpeE_M",
        "outputId": "64d4cc56-31f1-41e2-cd73-b8c9c99f7c76"
      },
      "source": [
        "plt.scatter(X[y_pred == 0, 0], X[y_pred == 0, 1], label = 'versicolor')\r\n",
        "plt.scatter(X[y_pred == 1, 0], X[y_pred == 1, 1], label = 'setosa')\r\n",
        "plt.scatter(X[y_pred == 2, 0], X[y_pred == 2, 1], label = 'virginica')\r\n",
        "\r\n",
        "# Plotting the centroids.\r\n",
        "\r\n",
        "plt.scatter(km.cluster_centers_[:, 0], km.cluster_centers_[:,1], label = 'Centroids')\r\n",
        "plt.legend(loc='upper right') \r\n",
        "plt.xlabel('Sepal Length')\r\n",
        "plt.ylabel('Sepal Width')\r\n",
        "plt.show()"
      ],
      "execution_count": 15,
      "outputs": [
        {
          "output_type": "display_data",
          "data": {
            "image/png": "[encoded data removed]",
            "text/plain": [
              "<Figure size 432x288 with 1 Axes>"
            ]
          },
          "metadata": {
            "tags": [],
            "needs_background": "light"
          }
        }
      ]
    },
    {
      "cell_type": "markdown",
      "metadata": {
        "id": "N_fabXHQeURr"
      },
      "source": [
        "Visualizing the clusters of petal length and width"
      ]
    },
    {
      "cell_type": "code",
      "metadata": {
        "colab": {
          "base_uri": "https://localhost:8080/",
          "height": 279
        },
        "id": "hCiVFUkjeWWs",
        "outputId": "5796cc68-fcff-43df-b6ce-8f8070ef5eb2"
      },
      "source": [
        "plt.scatter(X[y_pred == 0, 2], X[y_pred == 0, 3], label = 'versicolor')\r\n",
        "plt.scatter(X[y_pred == 1, 2], X[y_pred == 1, 3], label = 'setosa')\r\n",
        "plt.scatter(X[y_pred == 2, 2], X[y_pred == 2, 3], label = 'virginica')\r\n",
        "\r\n",
        "# Plotting the centroids. This time we're going to use the cluster centres \r\n",
        "\r\n",
        "plt.scatter(km.cluster_centers_[:, 2], km.cluster_centers_[:,3], label = 'Centroids')\r\n",
        "plt.legend(loc='lower right') \r\n",
        "plt.xlabel('Petal Length')\r\n",
        "plt.ylabel('Petal Width')\r\n",
        "plt.show()"
      ],
      "execution_count": 16,
      "outputs": [
        {
          "output_type": "display_data",
          "data": {
            "image/png": "[encoded data removed]",
            "text/plain": [
              "<Figure size 432x288 with 1 Axes>"
            ]
          },
          "metadata": {
            "tags": [],
            "needs_background": "light"
          }
        }
      ]
    },
    {
      "cell_type": "markdown",
      "metadata": {
        "id": "8fp0ZGs_ea3c"
      },
      "source": [
        "By this way, we have predicted the optimum number of clusters (3 clusters) and also we have visualized it by using scatter plot."
      ]
    },
    {
      "cell_type": "markdown",
      "metadata": {
        "id": "2zGndxtvewKB"
      },
      "source": [
        "**Task #2 is completed.**"
      ]
    }
  ]
}