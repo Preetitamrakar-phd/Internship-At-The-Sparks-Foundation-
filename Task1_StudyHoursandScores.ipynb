{
  "nbformat": 4,
  "nbformat_minor": 0,
  "metadata": {
    "colab": {
      "name": "Task1_StudyHoursandScores.ipynb",
      "provenance": [],
      "collapsed_sections": [],
      "authorship_tag": "ABX9TyNTBefm0mvmosC1Me+fpPtM",
      "include_colab_link": true
    },
    "kernelspec": {
      "name": "python3",
      "display_name": "Python 3"
    }
  },
  "cells": [
    {
      "cell_type": "markdown",
      "metadata": {
        "id": "view-in-github",
        "colab_type": "text"
      },
      "source": [
        "<a href=\"https://colab.research.google.com/github/Preetitamrakar-phd/Internship-At-The-Sparks-Foundation-/blob/main/Task1_StudyHoursandScores.ipynb\" target=\"_parent\"><img src=\"https://colab.research.google.com/assets/colab-badge.svg\" alt=\"Open In Colab\"/></a>"
      ]
    },
    {
      "cell_type": "code",
      "metadata": {
        "id": "XgJ-f5jFOOfI"
      },
      "source": [
        "DATA SCIENCE AND BUSINESS ANALYTICS TASK"
      ],
      "execution_count": null,
      "outputs": []
    },
    {
      "cell_type": "markdown",
      "metadata": {
        "id": "7YauTFCrPxNo"
      },
      "source": [
        "Preeti Tamrakar"
      ]
    },
    {
      "cell_type": "markdown",
      "metadata": {
        "id": "JMBuGgnBPiBJ"
      },
      "source": [
        "Intern at The Sparks Foundation (TSF)"
      ]
    },
    {
      "cell_type": "markdown",
      "metadata": {
        "id": "r1IbM5ARP0XY"
      },
      "source": [
        "Task #1: Predict the percentage of an student based on the no. of study hours (Prediction using Supervised ML) "
      ]
    },
    {
      "cell_type": "code",
      "metadata": {
        "id": "lRpVLUJpqQgk"
      },
      "source": [
        "#import all the necessary packages\r\n",
        "import numpy as np\r\n",
        "import pandas as pd\r\n",
        "import matplotlib.pyplot as plt\r\n",
        "import seaborn as sns\r\n",
        "%matplotlib inline"
      ],
      "execution_count": null,
      "outputs": []
    },
    {
      "cell_type": "code",
      "metadata": {
        "id": "dKxPynjhYxWt",
        "colab": {
          "base_uri": "https://localhost:8080/",
          "height": 237
        },
        "outputId": "896ca179-0314-4f36-fbb5-0a8c0279ae55"
      },
      "source": [
        "# Reading data from remote link\r\n",
        "url = \"http://bit.ly/w-data\"\r\n",
        "df = pd.read_csv(url)\r\n",
        "print(\"Data imported successfully\")\r\n",
        "print(\"The Shape is: \",df.shape) #Shape of the dataset i.e total rows and columns\r\n",
        "df.head()\r\n"
      ],
      "execution_count": null,
      "outputs": [
        {
          "output_type": "stream",
          "text": [
            "Data imported successfully\n",
            "The Shape is:  (25, 2)\n"
          ],
          "name": "stdout"
        },
        {
          "output_type": "execute_result",
          "data": {
            "text/html": [
              "<div>\n",
              "<style scoped>\n",
              "    .dataframe tbody tr th:only-of-type {\n",
              "        vertical-align: middle;\n",
              "    }\n",
              "\n",
              "    .dataframe tbody tr th {\n",
              "        vertical-align: top;\n",
              "    }\n",
              "\n",
              "    .dataframe thead th {\n",
              "        text-align: right;\n",
              "    }\n",
              "</style>\n",
              "<table border=\"1\" class=\"dataframe\">\n",
              "  <thead>\n",
              "    <tr style=\"text-align: right;\">\n",
              "      <th></th>\n",
              "      <th>Hours</th>\n",
              "      <th>Scores</th>\n",
              "    </tr>\n",
              "  </thead>\n",
              "  <tbody>\n",
              "    <tr>\n",
              "      <th>0</th>\n",
              "      <td>2.5</td>\n",
              "      <td>21</td>\n",
              "    </tr>\n",
              "    <tr>\n",
              "      <th>1</th>\n",
              "      <td>5.1</td>\n",
              "      <td>47</td>\n",
              "    </tr>\n",
              "    <tr>\n",
              "      <th>2</th>\n",
              "      <td>3.2</td>\n",
              "      <td>27</td>\n",
              "    </tr>\n",
              "    <tr>\n",
              "      <th>3</th>\n",
              "      <td>8.5</td>\n",
              "      <td>75</td>\n",
              "    </tr>\n",
              "    <tr>\n",
              "      <th>4</th>\n",
              "      <td>3.5</td>\n",
              "      <td>30</td>\n",
              "    </tr>\n",
              "  </tbody>\n",
              "</table>\n",
              "</div>"
            ],
            "text/plain": [
              "   Hours  Scores\n",
              "0    2.5      21\n",
              "1    5.1      47\n",
              "2    3.2      27\n",
              "3    8.5      75\n",
              "4    3.5      30"
            ]
          },
          "metadata": {
            "tags": []
          },
          "execution_count": 5
        }
      ]
    },
    {
      "cell_type": "code",
      "metadata": {
        "colab": {
          "base_uri": "https://localhost:8080/"
        },
        "id": "DCVCT1FkSRVf",
        "outputId": "0675104e-e831-4c68-b7d9-a507edcf25da"
      },
      "source": [
        "df.columns                      "
      ],
      "execution_count": null,
      "outputs": [
        {
          "output_type": "execute_result",
          "data": {
            "text/plain": [
              "Index(['Hours', 'Scores'], dtype='object')"
            ]
          },
          "metadata": {
            "tags": []
          },
          "execution_count": 6
        }
      ]
    },
    {
      "cell_type": "code",
      "metadata": {
        "colab": {
          "base_uri": "https://localhost:8080/",
          "height": 294
        },
        "id": "ew1Jhj2rSWmM",
        "outputId": "c2071e41-a8a4-4408-a539-c800a3637b8b"
      },
      "source": [
        "df.describe()  # Statistical summary"
      ],
      "execution_count": null,
      "outputs": [
        {
          "output_type": "execute_result",
          "data": {
            "text/html": [
              "<div>\n",
              "<style scoped>\n",
              "    .dataframe tbody tr th:only-of-type {\n",
              "        vertical-align: middle;\n",
              "    }\n",
              "\n",
              "    .dataframe tbody tr th {\n",
              "        vertical-align: top;\n",
              "    }\n",
              "\n",
              "    .dataframe thead th {\n",
              "        text-align: right;\n",
              "    }\n",
              "</style>\n",
              "<table border=\"1\" class=\"dataframe\">\n",
              "  <thead>\n",
              "    <tr style=\"text-align: right;\">\n",
              "      <th></th>\n",
              "      <th>Hours</th>\n",
              "      <th>Scores</th>\n",
              "    </tr>\n",
              "  </thead>\n",
              "  <tbody>\n",
              "    <tr>\n",
              "      <th>count</th>\n",
              "      <td>25.000000</td>\n",
              "      <td>25.000000</td>\n",
              "    </tr>\n",
              "    <tr>\n",
              "      <th>mean</th>\n",
              "      <td>5.012000</td>\n",
              "      <td>51.480000</td>\n",
              "    </tr>\n",
              "    <tr>\n",
              "      <th>std</th>\n",
              "      <td>2.525094</td>\n",
              "      <td>25.286887</td>\n",
              "    </tr>\n",
              "    <tr>\n",
              "      <th>min</th>\n",
              "      <td>1.100000</td>\n",
              "      <td>17.000000</td>\n",
              "    </tr>\n",
              "    <tr>\n",
              "      <th>25%</th>\n",
              "      <td>2.700000</td>\n",
              "      <td>30.000000</td>\n",
              "    </tr>\n",
              "    <tr>\n",
              "      <th>50%</th>\n",
              "      <td>4.800000</td>\n",
              "      <td>47.000000</td>\n",
              "    </tr>\n",
              "    <tr>\n",
              "      <th>75%</th>\n",
              "      <td>7.400000</td>\n",
              "      <td>75.000000</td>\n",
              "    </tr>\n",
              "    <tr>\n",
              "      <th>max</th>\n",
              "      <td>9.200000</td>\n",
              "      <td>95.000000</td>\n",
              "    </tr>\n",
              "  </tbody>\n",
              "</table>\n",
              "</div>"
            ],
            "text/plain": [
              "           Hours     Scores\n",
              "count  25.000000  25.000000\n",
              "mean    5.012000  51.480000\n",
              "std     2.525094  25.286887\n",
              "min     1.100000  17.000000\n",
              "25%     2.700000  30.000000\n",
              "50%     4.800000  47.000000\n",
              "75%     7.400000  75.000000\n",
              "max     9.200000  95.000000"
            ]
          },
          "metadata": {
            "tags": []
          },
          "execution_count": 7
        }
      ]
    },
    {
      "cell_type": "markdown",
      "metadata": {
        "id": "gIqsXvAnSmIT"
      },
      "source": [
        "Now, we will plot our data points on 2-D graph to see our dataset and check if we can manually find any relationship between the data. "
      ]
    },
    {
      "cell_type": "code",
      "metadata": {
        "colab": {
          "base_uri": "https://localhost:8080/",
          "height": 458
        },
        "id": "OyZv0e5-S4y2",
        "outputId": "fee9bc85-8cfe-490d-ca0e-8278005a9019"
      },
      "source": [
        "fig =plt.figure(figsize=(7,7))\r\n",
        "plt.scatter(x=df['Hours'],y=df['Scores'])\r\n",
        "plt.title('Relationship between Hours of study and Scores')\r\n",
        "plt.xlabel('Hours')\r\n",
        "plt.ylabel('Scores')\r\n",
        "plt.show()"
      ],
      "execution_count": null,
      "outputs": [
        {
          "output_type": "display_data",
          "data": {
            "image/png": "[encoded data removed]",
            "text/plain": [
              "<Figure size 504x504 with 1 Axes>"
            ]
          },
          "metadata": {
            "tags": [],
            "needs_background": "light"
          }
        }
      ]
    },
    {
      "cell_type": "markdown",
      "metadata": {
        "id": "XtpRVN61TQEZ"
      },
      "source": [
        "It shows positive correlation among the data."
      ]
    },
    {
      "cell_type": "markdown",
      "metadata": {
        "id": "CPhXSzQAT2Pj"
      },
      "source": [
        "Next step is to divide the dataset into two parts. one is dependent variable i.e. Output and the other is independent variable i.e. Input. "
      ]
    },
    {
      "cell_type": "markdown",
      "metadata": {
        "id": "W4aT1gjEoiLR"
      },
      "source": [
        "Then split it into Training and testing dataset."
      ]
    },
    {
      "cell_type": "code",
      "metadata": {
        "id": "Nx8vsLi8op0z"
      },
      "source": [
        "from sklearn.model_selection import train_test_split\r\n",
        "x_train, x_test, y_train, y_test = train_test_split(df[['Hours']],df['Scores'],test_size = 0.2,random_state=0)"
      ],
      "execution_count": null,
      "outputs": []
    },
    {
      "cell_type": "code",
      "metadata": {
        "colab": {
          "base_uri": "https://localhost:8080/"
        },
        "id": "I1ZNe1AZUQZO",
        "outputId": "60bd5d40-07e5-49de-dd34-12002358cf94"
      },
      "source": [
        "x_train.shape, y_train.shape"
      ],
      "execution_count": null,
      "outputs": [
        {
          "output_type": "execute_result",
          "data": {
            "text/plain": [
              "((20, 1), (20,))"
            ]
          },
          "metadata": {
            "tags": []
          },
          "execution_count": 10
        }
      ]
    },
    {
      "cell_type": "code",
      "metadata": {
        "colab": {
          "base_uri": "https://localhost:8080/"
        },
        "id": "L39IDHbdo-o_",
        "outputId": "8013f932-844f-441e-c1a9-8c614edfb2a2"
      },
      "source": [
        "x_test.shape, y_test.shape"
      ],
      "execution_count": null,
      "outputs": [
        {
          "output_type": "execute_result",
          "data": {
            "text/plain": [
              "((5, 1), (5,))"
            ]
          },
          "metadata": {
            "tags": []
          },
          "execution_count": 11
        }
      ]
    },
    {
      "cell_type": "markdown",
      "metadata": {
        "id": "Ayj-X3rlpWD8"
      },
      "source": [
        "Importing Linear Regression model"
      ]
    },
    {
      "cell_type": "code",
      "metadata": {
        "id": "RjYuDBwcpN57"
      },
      "source": [
        "#Importing linear regression from linear model\r\n",
        "from sklearn.linear_model import LinearRegression\r\n",
        "LR = LinearRegression()"
      ],
      "execution_count": null,
      "outputs": []
    },
    {
      "cell_type": "code",
      "metadata": {
        "colab": {
          "base_uri": "https://localhost:8080/"
        },
        "id": "9rAYLZ5VpHzU",
        "outputId": "b033ebeb-4f1d-4e1e-f5ca-537f2544a952"
      },
      "source": [
        "from sklearn.model_selection import KFold,cross_val_score\r\n",
        "fold = KFold(n_splits=5,random_state=0, shuffle=True)\r\n",
        "scores = cross_val_score(LR, x_train, y_train,scoring='r2', cv=fold)\r\n",
        "scores.mean()"
      ],
      "execution_count": null,
      "outputs": [
        {
          "output_type": "execute_result",
          "data": {
            "text/plain": [
              "0.8948738034210176"
            ]
          },
          "metadata": {
            "tags": []
          },
          "execution_count": 14
        }
      ]
    },
    {
      "cell_type": "markdown",
      "metadata": {
        "id": "UXuDFOMkpoBb"
      },
      "source": [
        "Train the model"
      ]
    },
    {
      "cell_type": "code",
      "metadata": {
        "colab": {
          "base_uri": "https://localhost:8080/"
        },
        "id": "RJAZwymRpp1l",
        "outputId": "3fede56c-89ff-4e2a-9e78-f6943dc38d7a"
      },
      "source": [
        "LR.fit(x_train,y_train)\r\n",
        "print(\"Training complete\")\r\n"
      ],
      "execution_count": null,
      "outputs": [
        {
          "output_type": "stream",
          "text": [
            "Training complete\n"
          ],
          "name": "stdout"
        }
      ]
    },
    {
      "cell_type": "markdown",
      "metadata": {
        "id": "408hQrhrqIv5"
      },
      "source": [
        "Prediction"
      ]
    },
    {
      "cell_type": "code",
      "metadata": {
        "colab": {
          "base_uri": "https://localhost:8080/"
        },
        "id": "gSN8fSoYqKYO",
        "outputId": "a7cb3e1e-c273-463d-edc5-76981d97e076"
      },
      "source": [
        "result=LR.predict(x_test)\r\n",
        "result\r\n"
      ],
      "execution_count": null,
      "outputs": [
        {
          "output_type": "execute_result",
          "data": {
            "text/plain": [
              "array([16.88414476, 33.73226078, 75.357018  , 26.79480124, 60.49103328])"
            ]
          },
          "metadata": {
            "tags": []
          },
          "execution_count": 19
        }
      ]
    },
    {
      "cell_type": "markdown",
      "metadata": {
        "id": "DFw8Q4ORqZE0"
      },
      "source": [
        "The sum of absolute differences between our target and predicted variables is called as Mean Absolute Error"
      ]
    },
    {
      "cell_type": "code",
      "metadata": {
        "colab": {
          "base_uri": "https://localhost:8080/"
        },
        "id": "FMyNHBPuqiHb",
        "outputId": "4b1a6ffa-367d-45c3-ea04-f195b472af96"
      },
      "source": [
        "from sklearn.metrics import mean_absolute_error\r\n",
        "print(\"Mean Absolute Error:\",mean_absolute_error(y_test,result))\r\n"
      ],
      "execution_count": null,
      "outputs": [
        {
          "output_type": "stream",
          "text": [
            "Mean Absolute Error: 4.183859899002982\n"
          ],
          "name": "stdout"
        }
      ]
    },
    {
      "cell_type": "markdown",
      "metadata": {
        "id": "Ychi8Z_iquJO"
      },
      "source": [
        "The statistical Measure of how close the data are fitted to regression line is called r2_score\r\n"
      ]
    },
    {
      "cell_type": "code",
      "metadata": {
        "colab": {
          "base_uri": "https://localhost:8080/"
        },
        "id": "LaoAdh0pq-fB",
        "outputId": "c81b4cff-4d23-40db-a529-109149745c0e"
      },
      "source": [
        "from sklearn.metrics import r2_score\r\n",
        "print(\"r2_score:\",r2_score(y_test,result))"
      ],
      "execution_count": null,
      "outputs": [
        {
          "output_type": "stream",
          "text": [
            "r2_score: 0.9454906892105354\n"
          ],
          "name": "stdout"
        }
      ]
    },
    {
      "cell_type": "markdown",
      "metadata": {
        "id": "29YK4t0grL4-"
      },
      "source": [
        "Plotting the regression line"
      ]
    },
    {
      "cell_type": "code",
      "metadata": {
        "colab": {
          "base_uri": "https://localhost:8080/",
          "height": 295
        },
        "id": "8CxS3O_Trnyo",
        "outputId": "d302fcb0-d75b-4245-e1fa-14eec658f09b"
      },
      "source": [
        "y=LR.coef_*df[['Hours']]+LR.intercept_   #Y=mx+c\r\n",
        "figure = plt.figure(figsize=(8,4))\r\n",
        "plt.scatter(df['Hours'],df['Scores'])\r\n",
        "plt.plot(df['Hours'],y,'y')                       #plotting Best fit Line whereas Y is straight line\r\n",
        "plt.xlabel('Hours')\r\n",
        "plt.ylabel('Scores')\r\n",
        "plt.title(\"Best Fit Line scatter plot\")\r\n",
        "plt.show()"
      ],
      "execution_count": null,
      "outputs": [
        {
          "output_type": "display_data",
          "data": {
            "image/png": "[encoded data removed]",
            "text/plain": [
              "<Figure size 576x288 with 1 Axes>"
            ]
          },
          "metadata": {
            "tags": [],
            "needs_background": "light"
          }
        }
      ]
    },
    {
      "cell_type": "markdown",
      "metadata": {
        "id": "znLv3igNr4Rx"
      },
      "source": [
        "comparing  actual and predicted values"
      ]
    },
    {
      "cell_type": "code",
      "metadata": {
        "colab": {
          "base_uri": "https://localhost:8080/",
          "height": 202
        },
        "id": "9f_u3fN3r4ir",
        "outputId": "997c66ea-d3b9-45d5-9a41-9ef6b9cc7ad6"
      },
      "source": [
        "comp=pd.DataFrame({'Actual':y_test,'Predicted':result})\r\n",
        "comp"
      ],
      "execution_count": null,
      "outputs": [
        {
          "output_type": "execute_result",
          "data": {
            "text/html": [
              "<div>\n",
              "<style scoped>\n",
              "    .dataframe tbody tr th:only-of-type {\n",
              "        vertical-align: middle;\n",
              "    }\n",
              "\n",
              "    .dataframe tbody tr th {\n",
              "        vertical-align: top;\n",
              "    }\n",
              "\n",
              "    .dataframe thead th {\n",
              "        text-align: right;\n",
              "    }\n",
              "</style>\n",
              "<table border=\"1\" class=\"dataframe\">\n",
              "  <thead>\n",
              "    <tr style=\"text-align: right;\">\n",
              "      <th></th>\n",
              "      <th>Actual</th>\n",
              "      <th>Predicted</th>\n",
              "    </tr>\n",
              "  </thead>\n",
              "  <tbody>\n",
              "    <tr>\n",
              "      <th>5</th>\n",
              "      <td>20</td>\n",
              "      <td>16.884145</td>\n",
              "    </tr>\n",
              "    <tr>\n",
              "      <th>2</th>\n",
              "      <td>27</td>\n",
              "      <td>33.732261</td>\n",
              "    </tr>\n",
              "    <tr>\n",
              "      <th>19</th>\n",
              "      <td>69</td>\n",
              "      <td>75.357018</td>\n",
              "    </tr>\n",
              "    <tr>\n",
              "      <th>16</th>\n",
              "      <td>30</td>\n",
              "      <td>26.794801</td>\n",
              "    </tr>\n",
              "    <tr>\n",
              "      <th>11</th>\n",
              "      <td>62</td>\n",
              "      <td>60.491033</td>\n",
              "    </tr>\n",
              "  </tbody>\n",
              "</table>\n",
              "</div>"
            ],
            "text/plain": [
              "    Actual  Predicted\n",
              "5       20  16.884145\n",
              "2       27  33.732261\n",
              "19      69  75.357018\n",
              "16      30  26.794801\n",
              "11      62  60.491033"
            ]
          },
          "metadata": {
            "tags": []
          },
          "execution_count": 27
        }
      ]
    },
    {
      "cell_type": "code",
      "metadata": {
        "colab": {
          "base_uri": "https://localhost:8080/",
          "height": 313
        },
        "id": "SpRw6qzlsGq8",
        "outputId": "61462241-1fbe-43eb-8ff5-10ae6197ef31"
      },
      "source": [
        "plt.figure(figsize=(8,4))\r\n",
        "plt.scatter(x_test,y_test,c='red',marker='*',label='Actual')      #Scatter plot using Test Data(x and y)\r\n",
        "plt.scatter(x_test,result,c='green',label='Predict')              #Scatter plot using Data(x and predicted_result)\r\n",
        "plt.plot(x_test,result)                                           #plotting the Line(x and predicted_result)\r\n",
        "plt.xlabel('Hours')\r\n",
        "plt.ylabel('Scores-Actual,Predicted')\r\n",
        "plt.title('Predicted')\r\n",
        "plt.legend()"
      ],
      "execution_count": null,
      "outputs": [
        {
          "output_type": "execute_result",
          "data": {
            "text/plain": [
              "<matplotlib.legend.Legend at 0x7f4574a72c18>"
            ]
          },
          "metadata": {
            "tags": []
          },
          "execution_count": 29
        },
        {
          "output_type": "display_data",
          "data": {
            "image/png": "[encoded data removed]",
            "text/plain": [
              "<Figure size 576x288 with 1 Axes>"
            ]
          },
          "metadata": {
            "tags": [],
            "needs_background": "light"
          }
        }
      ]
    },
    {
      "cell_type": "markdown",
      "metadata": {
        "id": "Wxwr6uXFsjmM"
      },
      "source": [
        "Given task is:-  What will be predicted score if a student studies for 9.25 hrs/day"
      ]
    },
    {
      "cell_type": "code",
      "metadata": {
        "colab": {
          "base_uri": "https://localhost:8080/"
        },
        "id": "IlA3vIkKsvxH",
        "outputId": "af84cda9-e826-44ff-eba2-edcfe306ca98"
      },
      "source": [
        "print(\"Student studied 9.25Hours per day will get {} Score\".format(LR.predict(np.array(9.25).reshape(1,1))))\r\n"
      ],
      "execution_count": null,
      "outputs": [
        {
          "output_type": "stream",
          "text": [
            "Student studied 9.25Hours per day will get [93.69173249] Score\n"
          ],
          "name": "stdout"
        }
      ]
    }
  ]
}